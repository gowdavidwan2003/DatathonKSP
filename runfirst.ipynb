{
 "cells": [
  {
   "cell_type": "code",
   "execution_count": 1,
   "id": "92207e4d",
   "metadata": {},
   "outputs": [],
   "source": [
    "import pandas as pd"
   ]
  },
  {
   "cell_type": "code",
   "execution_count": 2,
   "id": "c32073fa",
   "metadata": {},
   "outputs": [],
   "source": [
    "df1 = pd.read_csv('dataset/AccusedData.csv')"
   ]
  },
  {
   "cell_type": "code",
   "execution_count": 3,
   "id": "bdae7e71",
   "metadata": {},
   "outputs": [],
   "source": [
    "df2 = pd.read_csv('dataset/ComplainantDetailsData.csv')"
   ]
  },
  {
   "cell_type": "code",
   "execution_count": 4,
   "id": "3ef83829",
   "metadata": {},
   "outputs": [
    {
     "name": "stderr",
     "output_type": "stream",
     "text": [
      "C:\\Users\\gowda\\AppData\\Local\\Temp\\ipykernel_3016\\3221201846.py:1: DtypeWarning: Columns (19,20) have mixed types. Specify dtype option on import or set low_memory=False.\n",
      "  df3 = pd.read_csv('dataset/FIR_Details_Data.csv')\n"
     ]
    }
   ],
   "source": [
    "df3 = pd.read_csv('dataset/FIR_Details_Data.csv')"
   ]
  },
  {
   "cell_type": "code",
   "execution_count": 5,
   "id": "c2572068",
   "metadata": {},
   "outputs": [],
   "source": [
    "df4 = pd.read_csv('dataset/VictimInfoDetails.csv')"
   ]
  },
  {
   "cell_type": "code",
   "execution_count": 6,
   "id": "dae655bb",
   "metadata": {},
   "outputs": [],
   "source": [
    "\n",
    "\n",
    "# Assuming 'df1', 'df2', 'df3', and 'df4' are your datasets\n",
    "\n",
    "# Merge df1 and df2\n",
    "merged_df1_2 = pd.merge(df1, df2, on=['District_Name', 'UnitName', 'FIRNo', 'Year', 'Month'])\n",
    "\n",
    "# Merge the result with df3\n",
    "merged_df1_2_3 = pd.merge(merged_df1_2, df3, on=['District_Name', 'UnitName', 'FIRNo', 'Year', 'Month'])\n",
    "\n",
    "# Finally, merge the result with df4\n",
    "merged_df = pd.merge(merged_df1_2_3, df4, on=['District_Name', 'UnitName', 'FIRNo', 'Year', 'Month'])"
   ]
  },
  {
   "cell_type": "code",
   "execution_count": 8,
   "id": "1c1f046f",
   "metadata": {},
   "outputs": [],
   "source": [
    "merged_df.to_csv('dataset/merged_dataset.csv', index=False)"
   ]
  },
  {
   "cell_type": "code",
   "execution_count": 10,
   "id": "5d4b57cd",
   "metadata": {},
   "outputs": [
    {
     "data": {
      "text/plain": [
       "['District_Name',\n",
       " 'UnitName',\n",
       " 'FIRNo',\n",
       " 'Year',\n",
       " 'Month',\n",
       " 'AccusedName',\n",
       " 'Person_Name',\n",
       " 'age_x',\n",
       " 'Caste_x',\n",
       " 'Profession_x',\n",
       " 'Sex_x',\n",
       " 'PresentAddress_x',\n",
       " 'PresentCity_x',\n",
       " 'PresentState_x',\n",
       " 'PermanentAddress_x',\n",
       " 'PermanentCity_x',\n",
       " 'PermanentState_x',\n",
       " 'Nationality_Name_x',\n",
       " 'DOB_x',\n",
       " 'Person_No',\n",
       " 'Arr_ID_x',\n",
       " 'crime_no',\n",
       " 'ComplainantName',\n",
       " 'Relation',\n",
       " 'RelationshipName',\n",
       " 'DateOfBirth',\n",
       " 'Age',\n",
       " 'Sex_y',\n",
       " 'Nationality',\n",
       " 'Occupation',\n",
       " 'Address',\n",
       " 'City',\n",
       " 'State',\n",
       " 'Pincode',\n",
       " 'Caste_y',\n",
       " 'Religion',\n",
       " 'FIR_ID_x',\n",
       " 'Unit_ID_x',\n",
       " 'Complaint_ID',\n",
       " 'RI',\n",
       " 'Offence_From_Date',\n",
       " 'Offence_To_Date',\n",
       " 'FIR_Reg_DateTime',\n",
       " 'FIR_Date',\n",
       " 'FIR Type',\n",
       " 'FIR_Stage',\n",
       " 'Complaint_Mode',\n",
       " 'CrimeGroup_Name',\n",
       " 'CrimeHead_Name',\n",
       " 'Latitude',\n",
       " 'Longitude',\n",
       " 'ActSection',\n",
       " 'IOName',\n",
       " 'KGID',\n",
       " 'IOAssigned_Date',\n",
       " 'Internal_IO',\n",
       " 'Place of Offence',\n",
       " 'Distance from PS',\n",
       " 'Beat_Name',\n",
       " 'Village_Area_Name',\n",
       " 'Male',\n",
       " 'Female',\n",
       " 'Boy',\n",
       " 'Girl',\n",
       " 'Age 0',\n",
       " 'VICTIM COUNT',\n",
       " 'Accused Count',\n",
       " 'Arrested Male',\n",
       " 'Arrested Female',\n",
       " 'Arrested Count\\tNo.',\n",
       " 'Accused_ChargeSheeted Count',\n",
       " 'Conviction Count',\n",
       " 'FIR_ID_y',\n",
       " 'Unit_ID_y',\n",
       " 'Crime_No_x',\n",
       " 'VictimName',\n",
       " 'age_y',\n",
       " 'Caste',\n",
       " 'Profession_y',\n",
       " 'Sex',\n",
       " 'PresentAddress_y',\n",
       " 'PresentCity_y',\n",
       " 'PresentState_y',\n",
       " 'PermanentAddress_y',\n",
       " 'PermanentCity_y',\n",
       " 'PermanentState_y',\n",
       " 'Nationality_Name_y',\n",
       " 'DOB_y',\n",
       " 'PersonType',\n",
       " 'InjuryType',\n",
       " 'Injury_Nature',\n",
       " 'Crime_No_y',\n",
       " 'Arr_ID_y',\n",
       " 'Victim_ID']"
      ]
     },
     "execution_count": 10,
     "metadata": {},
     "output_type": "execute_result"
    }
   ],
   "source": [
    "list(merged_df)"
   ]
  },
  {
   "cell_type": "code",
   "execution_count": null,
   "id": "1fc43230",
   "metadata": {},
   "outputs": [],
   "source": []
  }
 ],
 "metadata": {
  "kernelspec": {
   "display_name": "Python 3 (ipykernel)",
   "language": "python",
   "name": "python3"
  },
  "language_info": {
   "codemirror_mode": {
    "name": "ipython",
    "version": 3
   },
   "file_extension": ".py",
   "mimetype": "text/x-python",
   "name": "python",
   "nbconvert_exporter": "python",
   "pygments_lexer": "ipython3",
   "version": "3.10.9"
  }
 },
 "nbformat": 4,
 "nbformat_minor": 5
}
