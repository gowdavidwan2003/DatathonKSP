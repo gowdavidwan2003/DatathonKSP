{
 "cells": [
  {
   "cell_type": "code",
   "execution_count": 1,
   "id": "412a3a71",
   "metadata": {},
   "outputs": [],
   "source": [
    "import pandas as pd\n",
    "import numpy as np\n",
    "import matplotlib.pyplot as plt\n",
    "import geopandas as gpd\n",
    "import folium\n",
    "from folium import Marker\n",
    "from folium.plugins import MarkerCluster,FastMarkerCluster\n",
    "import dash\n",
    "from dash import dcc\n",
    "from dash import html\n",
    "import base64\n",
    "import io"
   ]
  },
  {
   "cell_type": "code",
   "execution_count": 2,
   "id": "3f1a3212",
   "metadata": {},
   "outputs": [
    {
     "name": "stderr",
     "output_type": "stream",
     "text": [
      "C:\\Users\\gowda\\AppData\\Local\\Temp\\ipykernel_3196\\3958433160.py:1: DtypeWarning: Columns (53,54,58,87,90) have mixed types. Specify dtype option on import or set low_memory=False.\n",
      "  df = pd.read_csv('dataset\\merged_dataset.csv')\n"
     ]
    }
   ],
   "source": [
    "df = pd.read_csv('dataset\\merged_dataset.csv')"
   ]
  },
  {
   "cell_type": "code",
   "execution_count": 11,
   "id": "57280229",
   "metadata": {},
   "outputs": [],
   "source": [
    "from dash.dependencies import Output, Input\n",
    "\n",
    "\n",
    "\n"
   ]
  },
  {
   "cell_type": "code",
   "execution_count": 38,
   "id": "b228356b",
   "metadata": {},
   "outputs": [],
   "source": [
    "\n",
    "app = dash.Dash(__name__)\n"
   ]
  },
  {
   "cell_type": "code",
   "execution_count": 39,
   "id": "749e2eeb",
   "metadata": {
    "scrolled": false
   },
   "outputs": [],
   "source": [
    "app.layout = html.Div([\n",
    "    html.H1(children='The Victims'),\n",
    "    dcc.Dropdown(\n",
    "        id='district-dropdown',\n",
    "        options=[{'label': i, 'value': i} for i in df['District_Name'].unique()],\n",
    "        value=df['District_Name'].unique()[0]\n",
    "    ),\n",
    "    dcc.Dropdown(\n",
    "        id='policestation-dropdown'\n",
    "    ),\n",
    "    html.Iframe(id='map', srcDoc=open('map.html', 'r').read(), width='80%', height='600')\n",
    "     \n",
    "], style={\n",
    "    'width': '100%',\n",
    "    'height': '60px',\n",
    "    'lineHeight': '60px',\n",
    "    'textAlign': 'center',\n",
    "    'margin': '10px',\n",
    "    'backgroundColor': '#86A7FC'\n",
    "})\n",
    "\n",
    "@app.callback(\n",
    "    Output('policestation-dropdown', 'options'),\n",
    "    Input('district-dropdown', 'value')\n",
    ")\n",
    "def update_taluk_dropdown(selected_district):\n",
    "    policestation = df[df['District_Name'] == selected_district]['UnitName'].unique()\n",
    "    return [{'label': i, 'value': i} for i in policestation]\n",
    "\n",
    "@app.callback(\n",
    "    [Output('map', 'srcDoc'),\n",
    "    ],\n",
    "    [Input('district-dropdown', 'value'),\n",
    "     Input('policestation-dropdown', 'value')]\n",
    ")\n",
    "def update_map(selected_district, selected_taluk):\n",
    "    filtered_df = df[(df['District_Name'] == selected_district) & (df['UnitName'] == selected_taluk)]\n",
    "    #location1 = geolocator.geocode(selected_taluk)\n",
    "    #loc = [location1.latitude,location1.longitude]\n",
    "    m = folium.Map(location=[15.3173, 75.7139], tiles='openstreetmap', zoom_start=7)\n",
    "    m.save('map.html')\n",
    "    mc = MarkerCluster()\n",
    "    m = folium.Map(location=[15.3173, 75.7139], tiles='openstreetmap', zoom_start=7)\n",
    "    for idx,row in filtered_df.iterrows():\n",
    "        try:\n",
    "            Marker([row['Latitude'],row['Longitude']]).add_to(mc)\n",
    "        except:\n",
    "            pass\n",
    "    m.add_child(mc)\n",
    "    m.save('map.html')\n",
    "    \n",
    "    filtered_df['age_batch'] = pd.cut(filtered_df['age_x'], bins=[18, 25, 32, 40, 50, 60,100], labels=['18-25', '25-32', '32-40', '40-50', '50-60', '60+'])\n",
    "    plt1.figure(figsize=(12, 6))\n",
    "    filtered_df['age_batch'].value_counts().nlargest(10).plot(kind='bar', color='skyblue')\n",
    "    plt1.title('Distribution of age of accused')\n",
    "    plt1.xlabel('Age')\n",
    "    plt1.ylabel('Frequency')\n",
    "    plt1.xticks(rotation=45)\n",
    "    \n",
    "    return (open('map.html', 'r').read())"
   ]
  },
  {
   "cell_type": "code",
   "execution_count": 40,
   "id": "96ba60c4",
   "metadata": {
    "scrolled": false
   },
   "outputs": [
    {
     "data": {
      "text/html": [
       "\n",
       "        <iframe\n",
       "            width=\"100%\"\n",
       "            height=\"650\"\n",
       "            src=\"http://127.0.0.1:3001/\"\n",
       "            frameborder=\"0\"\n",
       "            allowfullscreen\n",
       "            \n",
       "        ></iframe>\n",
       "        "
      ],
      "text/plain": [
       "<IPython.lib.display.IFrame at 0x218357893c0>"
      ]
     },
     "metadata": {},
     "output_type": "display_data"
    },
    {
     "name": "stderr",
     "output_type": "stream",
     "text": [
      "[2024-03-20 10:41:00,488] ERROR in app: Exception on /_dash-update-component [POST]\n",
      "Traceback (most recent call last):\n",
      "  File \"C:\\ProgramData\\anaconda3\\lib\\site-packages\\flask\\app.py\", line 2525, in wsgi_app\n",
      "    response = self.full_dispatch_request()\n",
      "  File \"C:\\ProgramData\\anaconda3\\lib\\site-packages\\flask\\app.py\", line 1822, in full_dispatch_request\n",
      "    rv = self.handle_user_exception(e)\n",
      "  File \"C:\\ProgramData\\anaconda3\\lib\\site-packages\\flask\\app.py\", line 1820, in full_dispatch_request\n",
      "    rv = self.dispatch_request()\n",
      "  File \"C:\\ProgramData\\anaconda3\\lib\\site-packages\\flask\\app.py\", line 1796, in dispatch_request\n",
      "    return self.ensure_sync(self.view_functions[rule.endpoint])(**view_args)\n",
      "  File \"C:\\Users\\gowda\\AppData\\Roaming\\Python\\Python310\\site-packages\\dash\\dash.py\", line 1310, in dispatch\n",
      "    ctx.run(\n",
      "  File \"C:\\Users\\gowda\\AppData\\Roaming\\Python\\Python310\\site-packages\\dash\\_callback.py\", line 442, in add_context\n",
      "    output_value = func(*func_args, **func_kwargs)  # %% callback invoked %%\n",
      "  File \"C:\\Users\\gowda\\AppData\\Local\\Temp\\ipykernel_3196\\855455620.py\", line 53, in update_map\n",
      "    plt1.figure(figsize=(12, 6))\n",
      "NameError: name 'plt1' is not defined\n"
     ]
    }
   ],
   "source": [
    "if __name__ == '__main__':\n",
    "    app.run_server(port = 3001)\n"
   ]
  },
  {
   "cell_type": "code",
   "execution_count": null,
   "id": "c3f07be6",
   "metadata": {},
   "outputs": [],
   "source": [
    "\n",
    "\n"
   ]
  },
  {
   "cell_type": "code",
   "execution_count": 11,
   "id": "ddaf4325",
   "metadata": {},
   "outputs": [
    {
     "data": {
      "text/plain": [
       "[46.9947447, 9.6659049]"
      ]
     },
     "execution_count": 11,
     "metadata": {},
     "output_type": "execute_result"
    }
   ],
   "source": [
    "get_location_by_name(\"Aldur PS\")"
   ]
  },
  {
   "cell_type": "code",
   "execution_count": null,
   "id": "8ce9fe35",
   "metadata": {},
   "outputs": [],
   "source": []
  }
 ],
 "metadata": {
  "kernelspec": {
   "display_name": "Python 3 (ipykernel)",
   "language": "python",
   "name": "python3"
  },
  "language_info": {
   "codemirror_mode": {
    "name": "ipython",
    "version": 3
   },
   "file_extension": ".py",
   "mimetype": "text/x-python",
   "name": "python",
   "nbconvert_exporter": "python",
   "pygments_lexer": "ipython3",
   "version": "3.10.9"
  }
 },
 "nbformat": 4,
 "nbformat_minor": 5
}
